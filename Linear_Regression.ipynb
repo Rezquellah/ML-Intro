{
  "nbformat": 4,
  "nbformat_minor": 0,
  "metadata": {
    "colab": {
      "provenance": [],
      "authorship_tag": "ABX9TyOlkO0YjJDvs9VMIz0dBiRW",
      "include_colab_link": true
    },
    "kernelspec": {
      "name": "python3",
      "display_name": "Python 3"
    },
    "language_info": {
      "name": "python"
    }
  },
  "cells": [
    {
      "cell_type": "markdown",
      "metadata": {
        "id": "view-in-github",
        "colab_type": "text"
      },
      "source": [
        "<a href=\"https://colab.research.google.com/github/Rezquellah/ML-Intro/blob/main/Linear_Regression.ipynb\" target=\"_parent\"><img src=\"https://colab.research.google.com/assets/colab-badge.svg\" alt=\"Open In Colab\"/></a>"
      ]
    },
    {
      "cell_type": "markdown",
      "source": [
        "# Linear Regression from scratch\n",
        "\n",
        "Linear regression is a statistical modeling technique used to predict the value of a continous numerical target variable.The target variable is also known as the dependant variable. \n",
        "\n",
        "The equation for simple linear regression can be written as:\n",
        "\n",
        "**Y = β0 + β1X + ε**\n",
        "\n",
        "where:\n",
        "\n",
        "*   Y is the predicted variable (also known as the dependent variable)\n",
        "*   X is the input variable (also known as the independent variable or predictor)\n",
        "\n",
        "*   β0 is the y-intercept of the line \n",
        "*   β1 is the slope of the line (also known as the regression coefficient)\n",
        "\n",
        "*   ε is the error term (also known as the residual)"
      ],
      "metadata": {
        "id": "UdEeBgTSl4li"
      }
    },
    {
      "cell_type": "markdown",
      "source": [
        "### Linear Regression steps\n",
        "\n",
        "\n",
        "\n",
        "*   **Dataset**: The above dataset that we generate using the library of Sklearn is a simple dataset that has one feature represented by **X** and a target variable **Y**, we would like to create a regression model that will be able to predict new Y values given nex X values with minimum error. \n",
        "\n",
        "*   **Model**: As shown on the graph we noticed that there is a **linear** relationship between X and Y, which means that we should use a linear regression model, and we can represented as a linear function **Y = a.X + b**. Y and X aer known we have them in our dataset, but the parameters **a** and **b** are unknown and our mission is to create a model that can predict the parameters of **a** and **b**. To start the parameters (a and b) will be random, so at first the model will get us a lot of error. \n",
        "\n",
        "*   **Cost Function**: We are going to use the **Mean Squared Error (MSE)**, which is a metric that measures the average of the squared differences between the predicted Ŷ and actual values of a Y (target variable).\n",
        "\n",
        "$MSE = \\frac{1}{2m} \\sum_{i=1}^{m} (Y_i - \\hat{Y_i})^2$\n",
        "\n",
        "*   **Optimisation Algorithm**: Our mean objectif to create a good model is to find the optimized parameters **a** and **b** that will provide us with the minimum error. A lower MSE indicates better performance, we are going to use the **Gradient Descent** to reduce the cost function MSE.Gradient Descent can find the minimum of any convex function.\n",
        "\n",
        "Gradient descent for the parameter **a** is:  \n",
        "$a_{t+1} = a_t - \\alpha \\frac{\\partial J(a_t, b_t)}{\\partial a_t}$\n",
        "\n",
        "Gradient descent for the parameter **b** is:  \n",
        "$b_{t+1} = b_t - \\alpha \\frac{\\partial J(a_t, b_t)}{\\partial b_t}$\n",
        "\n",
        "\n",
        "\n",
        "\n",
        "\n"
      ],
      "metadata": {
        "id": "eXwUIBNKYpe-"
      }
    },
    {
      "cell_type": "markdown",
      "source": [
        "### Representation in Matrix\n",
        "\n",
        "The simple linear function Y = a.X + b can be divided into 3 matrix as shown below: \n",
        "\n",
        "$\\begin{bmatrix} Y_1 \\ Y_2 \\ \\vdots \\ Y_n \\end{bmatrix} = \\begin{bmatrix} X_1 & 1 \\ X_2 & 1 \\ \\vdots & \\vdots \\ X_n & 1 \\end{bmatrix} \\begin{bmatrix} a \\ b \\end{bmatrix}$\n",
        "\n",
        "To make the above formula easy we will name the matrix [a b] as $\\theta$ so the formula can be represented as: \n",
        "**Y = X . $\\theta$**"
      ],
      "metadata": {
        "id": "1osxHftpxEor"
      }
    },
    {
      "cell_type": "markdown",
      "source": [
        "### Representation of MSE as matrix\n",
        "\n",
        "$J(a,b) = \\frac{1}{2m} \\sum_{i=1}^{m} (Y_i - \\hat{Y_i})^2$\n",
        "\n",
        "$J(a,b) = \\frac{1}{2m} \\sum_{i=1}^{m} ( X . \\theta$ - $\\hat{Y_i})^2$\n",
        "\n",
        "Because a and b are represented by $\\theta$ the cost function can be represented as below: \n",
        "\n",
        "$J(θ) = \\frac{1}{2m} \\sum_{i=1}^{m} ( X . \\theta$ - $\\hat{Y_i})^2$\n",
        "\n"
      ],
      "metadata": {
        "id": "6uA9FwE_yt_o"
      }
    },
    {
      "cell_type": "markdown",
      "source": [
        "### Rpresentation of Gradient Descent as matrix\n",
        "\n",
        "$DJ(a,b)/a = \\frac{1}{m} \\sum x(Y_i - \\hat{Y_i})$\n",
        "\n",
        "$DJ(a,b)/b = \\frac{1}{m} \\sum_{i=1}^{m} ( $Y_i - $\\hat{Y_i})$\n",
        "\n",
        "We will take the common things between the two formulas above and we will get the result below:\n",
        "\n",
        "$DJ(θ)/θ = \\frac{1}{m} X^T(X\\theta - Y)$ \n",
        "\n",
        "Finaly the gradient descent formula is: \n",
        "\n",
        "$\\theta_{t+1} = \\theta_t - \\alpha \\frac{\\partial J(\\theta_t)}{\\partial \\theta_t}$\n",
        "\n"
      ],
      "metadata": {
        "id": "Vogq95m51H97"
      }
    },
    {
      "cell_type": "code",
      "source": [
        "# Libraries\n",
        "import numpy as np\n",
        "from sklearn.datasets import make_regression \n",
        "import matplotlib.pyplot as plt"
      ],
      "metadata": {
        "id": "_ugIC5L5oW_-"
      },
      "execution_count": 113,
      "outputs": []
    },
    {
      "cell_type": "markdown",
      "source": [
        "## 1- Random dataset"
      ],
      "metadata": {
        "id": "CYJ4XQ7ctlTb"
      }
    },
    {
      "cell_type": "code",
      "source": [
        "# We will generate a random linear dataset\n",
        "x, y = make_regression(n_samples = 100,  n_features= 1, noise= 10)"
      ],
      "metadata": {
        "id": "3XHW6uPuraxK"
      },
      "execution_count": 114,
      "outputs": []
    },
    {
      "cell_type": "code",
      "source": [
        "# Data visualisation\n",
        "plt.scatter(x, y)\n",
        "plt.xlabel('X: Features (independant variable)')\n",
        "plt.ylabel('Y: Target (dependant variable')\n",
        "plt.title('Scatter plot of synthetic data')"
      ],
      "metadata": {
        "colab": {
          "base_uri": "https://localhost:8080/",
          "height": 489
        },
        "id": "qOE9gUoetbJ5",
        "outputId": "4b163df8-2387-40a7-f1d8-73cf259c9b54"
      },
      "execution_count": 115,
      "outputs": [
        {
          "output_type": "execute_result",
          "data": {
            "text/plain": [
              "Text(0.5, 1.0, 'Scatter plot of synthetic data')"
            ]
          },
          "metadata": {},
          "execution_count": 115
        },
        {
          "output_type": "display_data",
          "data": {
            "text/plain": [
              "<Figure size 640x480 with 1 Axes>"
            ],
            "image/png": "[encoded data removed]"
          },
          "metadata": {}
        }
      ]
    },
    {
      "cell_type": "code",
      "source": [
        "print(x.shape)\n",
        "print(y.shape)"
      ],
      "metadata": {
        "colab": {
          "base_uri": "https://localhost:8080/"
        },
        "id": "8fDv5aeB9It_",
        "outputId": "780075e2-929a-4f26-9a0c-3cfcd328fd5e"
      },
      "execution_count": 116,
      "outputs": [
        {
          "output_type": "stream",
          "name": "stdout",
          "text": [
            "(100, 1)\n",
            "(100,)\n"
          ]
        }
      ]
    },
    {
      "cell_type": "code",
      "source": [
        "# X and Y don't have the same dimension we should change the dimension of Y\n",
        "y = y.reshape(y.shape[0], 1)"
      ],
      "metadata": {
        "id": "8ggdRo-69pqZ"
      },
      "execution_count": 117,
      "outputs": []
    },
    {
      "cell_type": "code",
      "source": [
        "y.shape"
      ],
      "metadata": {
        "colab": {
          "base_uri": "https://localhost:8080/"
        },
        "id": "oC86l6sP93XU",
        "outputId": "69156c7b-5178-49f7-ab38-a0c1fe7d7358"
      },
      "execution_count": 118,
      "outputs": [
        {
          "output_type": "execute_result",
          "data": {
            "text/plain": [
              "(100, 1)"
            ]
          },
          "metadata": {},
          "execution_count": 118
        }
      ]
    },
    {
      "cell_type": "markdown",
      "source": [
        "$\\begin{bmatrix} Y_1 \\ Y_2 \\ \\vdots \\ Y_n \\end{bmatrix} = \\begin{bmatrix} X_1 & 1 \\ X_2 & 1 \\ \\vdots & \\vdots \\ X_n & 1 \\end{bmatrix} \\begin{bmatrix} a \\ b \\end{bmatrix}$"
      ],
      "metadata": {
        "id": "B2aEy8j--vTi"
      }
    },
    {
      "cell_type": "code",
      "source": [
        "# The matrix x must contains also ones (1)  [x  1]\n",
        "X = np.hstack((x, np.ones(x.shape)))"
      ],
      "metadata": {
        "id": "m2jBuz2X-2GB"
      },
      "execution_count": 119,
      "outputs": []
    },
    {
      "cell_type": "code",
      "source": [
        "X.shape"
      ],
      "metadata": {
        "colab": {
          "base_uri": "https://localhost:8080/"
        },
        "id": "rQouPtLD_OmA",
        "outputId": "dde0f057-691c-45a8-a4f9-8bb2f2eb827f"
      },
      "execution_count": 120,
      "outputs": [
        {
          "output_type": "execute_result",
          "data": {
            "text/plain": [
              "(100, 2)"
            ]
          },
          "metadata": {},
          "execution_count": 120
        }
      ]
    },
    {
      "cell_type": "markdown",
      "source": [
        "### Initialisation of theta θ\n",
        "\n",
        "As discused above theta θ will contain the parameter **a** and **b**, and they will be random number"
      ],
      "metadata": {
        "id": "UHHy3ecmAjW3"
      }
    },
    {
      "cell_type": "code",
      "source": [
        "theta = np.random.randn(2, 1)"
      ],
      "metadata": {
        "id": "VOTfvmtBAuHD"
      },
      "execution_count": 121,
      "outputs": []
    },
    {
      "cell_type": "code",
      "source": [
        "theta.shape"
      ],
      "metadata": {
        "colab": {
          "base_uri": "https://localhost:8080/"
        },
        "id": "2n-lQxueBVqK",
        "outputId": "c3822c04-131d-49d4-9869-6a878cae8015"
      },
      "execution_count": 122,
      "outputs": [
        {
          "output_type": "execute_result",
          "data": {
            "text/plain": [
              "(2, 1)"
            ]
          },
          "metadata": {},
          "execution_count": 122
        }
      ]
    },
    {
      "cell_type": "code",
      "source": [
        "theta"
      ],
      "metadata": {
        "colab": {
          "base_uri": "https://localhost:8080/"
        },
        "id": "hZYx-_RUBXpD",
        "outputId": "7b147bf4-2bbf-49f9-e0f4-6790c7cd608a"
      },
      "execution_count": 123,
      "outputs": [
        {
          "output_type": "execute_result",
          "data": {
            "text/plain": [
              "array([[ 2.50530944],\n",
              "       [-0.91209846]])"
            ]
          },
          "metadata": {},
          "execution_count": 123
        }
      ]
    },
    {
      "cell_type": "markdown",
      "source": [
        "### Model creation\n",
        "\n",
        "Now that we have y, X and theta θ we can write the model\n",
        "Y = X.θ"
      ],
      "metadata": {
        "id": "xeDZtcxaBmQJ"
      }
    },
    {
      "cell_type": "code",
      "source": [
        "def model(X, theta):\n",
        "  return X.dot(theta)"
      ],
      "metadata": {
        "id": "fSFppOT-Bv0y"
      },
      "execution_count": 124,
      "outputs": []
    },
    {
      "cell_type": "code",
      "source": [
        "plt.scatter(x, y)\n",
        "plt.plot(x, model(X,theta), c='r')"
      ],
      "metadata": {
        "colab": {
          "base_uri": "https://localhost:8080/",
          "height": 447
        },
        "id": "Jic6k__GCHe4",
        "outputId": "8ab8ee59-5e80-4783-9b88-cc2c57b3d3b9"
      },
      "execution_count": 125,
      "outputs": [
        {
          "output_type": "execute_result",
          "data": {
            "text/plain": [
              "[<matplotlib.lines.Line2D at 0x7f636079de70>]"
            ]
          },
          "metadata": {},
          "execution_count": 125
        },
        {
          "output_type": "display_data",
          "data": {
            "text/plain": [
              "<Figure size 640x480 with 1 Axes>"
            ],
            "image/png": "[encoded data removed]"
          },
          "metadata": {}
        }
      ]
    },
    {
      "cell_type": "markdown",
      "source": [
        "As shown on the graph above, the model (represented by the red line) don't fit the data, this is normal because the paramater **a** and **b** were random, we should calculate the error and apply gradient descent to reduce the error and optimize the model. "
      ],
      "metadata": {
        "id": "NRFqNU9wCvUJ"
      }
    },
    {
      "cell_type": "markdown",
      "source": [
        "### Cost Function\n",
        "\n",
        "$J(θ) = \\frac{1}{2m} \\sum_{i=1}^{m} ( X . \\theta$ - $\\hat{Y_i})^2$\n"
      ],
      "metadata": {
        "id": "OTXqzVQxDI0g"
      }
    },
    {
      "cell_type": "code",
      "source": [
        "def cost_func(X, y, theta):\n",
        "  m= len(y)\n",
        "  return 1/(2*m) * np.sum(model(X, theta) - y)**2"
      ],
      "metadata": {
        "id": "7NyGk4EbDKSr"
      },
      "execution_count": 126,
      "outputs": []
    },
    {
      "cell_type": "code",
      "source": [
        "cost_func(X, y, theta)"
      ],
      "metadata": {
        "colab": {
          "base_uri": "https://localhost:8080/"
        },
        "id": "UNg3JLEfEQ8V",
        "outputId": "a78bf469-1961-473a-a495-b55ab16299d3"
      },
      "execution_count": 127,
      "outputs": [
        {
          "output_type": "execute_result",
          "data": {
            "text/plain": [
              "539.8229857559809"
            ]
          },
          "metadata": {},
          "execution_count": 127
        }
      ]
    },
    {
      "cell_type": "markdown",
      "source": [
        " ### Gradient descecnt\n",
        "\n",
        " As shown above the cost function value was **215** which is high we want to reduce the value using the gradient descent. \n",
        "\n",
        " $DJ(θ)/θ = \\frac{1}{m} X^T(X\\theta - Y)$ \n",
        "\n",
        " $\\theta_{t+1} = \\theta_t - \\alpha \\frac{\\partial J(\\theta_t)}{\\partial \\theta_t}$\n",
        "\n"
      ],
      "metadata": {
        "id": "XWUwZ6-7E1Bb"
      }
    },
    {
      "cell_type": "code",
      "source": [
        "def grad(X, y, theta):\n",
        "  m = len(y)\n",
        "  return 1/m * X.T.dot(model(X, theta) - y)"
      ],
      "metadata": {
        "id": "BEPBEHgaFEt8"
      },
      "execution_count": 128,
      "outputs": []
    },
    {
      "cell_type": "code",
      "source": [
        "def gradient(X, y, theta, learn_rate, n_iter):\n",
        "  history = np.zeros(n_iter)\n",
        "  for i in range(0, n_iter):\n",
        "    theta = theta - learn_rate * grad(X, y, theta)\n",
        "    history[i] = cost_func(X, y, theta)\n",
        "  return theta, history"
      ],
      "metadata": {
        "id": "iCZ0EtTFFtcH"
      },
      "execution_count": 129,
      "outputs": []
    },
    {
      "cell_type": "markdown",
      "source": [
        "### Model training "
      ],
      "metadata": {
        "id": "iPUy610sHF40"
      }
    },
    {
      "cell_type": "code",
      "source": [
        "final_theta, history = gradient(X, y, theta, 0.01, 800)"
      ],
      "metadata": {
        "id": "tVgofeg_G02L"
      },
      "execution_count": 130,
      "outputs": []
    },
    {
      "cell_type": "code",
      "source": [
        "final_theta"
      ],
      "metadata": {
        "colab": {
          "base_uri": "https://localhost:8080/"
        },
        "id": "mcbelLvyHfOs",
        "outputId": "ff9cd45f-9d97-4ef5-f595-f49ef5abe097"
      },
      "execution_count": 131,
      "outputs": [
        {
          "output_type": "execute_result",
          "data": {
            "text/plain": [
              "array([[49.45637903],\n",
              "       [ 0.31118098]])"
            ]
          },
          "metadata": {},
          "execution_count": 131
        }
      ]
    },
    {
      "cell_type": "code",
      "source": [
        "pred = model(X, final_theta)"
      ],
      "metadata": {
        "id": "7ABVhWshHinA"
      },
      "execution_count": 132,
      "outputs": []
    },
    {
      "cell_type": "code",
      "source": [
        "plt.scatter(x, y)\n",
        "plt.plot(x, pred, c='r')"
      ],
      "metadata": {
        "colab": {
          "base_uri": "https://localhost:8080/",
          "height": 447
        },
        "id": "d_VuH6FwHuOJ",
        "outputId": "39b86a4a-48ad-41f4-867f-d9f824886bd0"
      },
      "execution_count": 133,
      "outputs": [
        {
          "output_type": "execute_result",
          "data": {
            "text/plain": [
              "[<matplotlib.lines.Line2D at 0x7f63608226b0>]"
            ]
          },
          "metadata": {},
          "execution_count": 133
        },
        {
          "output_type": "display_data",
          "data": {
            "text/plain": [
              "<Figure size 640x480 with 1 Axes>"
            ],
            "image/png": "[encoded data removed]"
          },
          "metadata": {}
        }
      ]
    },
    {
      "cell_type": "code",
      "source": [
        "plt.plot(range(800), history)"
      ],
      "metadata": {
        "colab": {
          "base_uri": "https://localhost:8080/",
          "height": 447
        },
        "id": "RPpcbWt1H3tt",
        "outputId": "4a397bb5-25d1-4c4c-e412-cfe226a53a13"
      },
      "execution_count": 136,
      "outputs": [
        {
          "output_type": "execute_result",
          "data": {
            "text/plain": [
              "[<matplotlib.lines.Line2D at 0x7f636037a890>]"
            ]
          },
          "metadata": {},
          "execution_count": 136
        },
        {
          "output_type": "display_data",
          "data": {
            "text/plain": [
              "<Figure size 640x480 with 1 Axes>"
            ],
            "image/png": "[encoded data removed]"
          },
          "metadata": {}
        }
      ]
    },
    {
      "cell_type": "markdown",
      "source": [
        "### Model Performance\n",
        "To determine the performance of a linear regression model we will use the R2 metric. \n",
        "R-squared (R2) Score: This measures the proportion of variance in the target variable that can be explained by the model. Higher values (closer to 1) indicate better performance.\n",
        "\n",
        "$R^2 = 1 - \\frac{SS_{res}}{SS_{tot}}$\n",
        "\n",
        "SSres : sum of squares of the residuals = sum(y - pred)^2\n",
        "\n",
        "SStot : total sum of squares = sum(y - moyen(y))^2 \n",
        "\n"
      ],
      "metadata": {
        "id": "sIZXvjbpLVX7"
      }
    },
    {
      "cell_type": "code",
      "source": [
        "def R2(y, pred):\n",
        "  ssres = ((y - pred)**2).sum()\n",
        "  sstot = ((y - y.mean())**2).sum()\n",
        "  return 1 - ssres/sstot"
      ],
      "metadata": {
        "id": "wNuyJn31K3C1"
      },
      "execution_count": 137,
      "outputs": []
    },
    {
      "cell_type": "code",
      "source": [
        "R2(y, pred)"
      ],
      "metadata": {
        "colab": {
          "base_uri": "https://localhost:8080/"
        },
        "id": "CvwAc385NKN_",
        "outputId": "88627070-7844-4888-c2ba-97ecbb3c8bc5"
      },
      "execution_count": 138,
      "outputs": [
        {
          "output_type": "execute_result",
          "data": {
            "text/plain": [
              "0.9642725107736869"
            ]
          },
          "metadata": {},
          "execution_count": 138
        }
      ]
    },
    {
      "cell_type": "markdown",
      "source": [
        "Our R2 score is 0.96, he indicates that the linear regression model explains 96.43% of the variance in the target variable. This means that the model provides a good fit to the data, as it is able to explain a large portion of the variability in the target variable. In other words, the model is able to capture the underlying patterns and relationships in the data to a high degree of accuracy."
      ],
      "metadata": {
        "id": "1uz6f5B8NpS2"
      }
    }
  ]
}